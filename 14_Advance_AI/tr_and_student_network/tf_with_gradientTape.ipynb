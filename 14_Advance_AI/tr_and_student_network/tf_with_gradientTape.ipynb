{
 "cells": [
  {
   "cell_type": "code",
   "execution_count": 2,
   "metadata": {},
   "outputs": [],
   "source": [
    "import tensorflow as tf\n",
    "\n",
    "# Load and preprocess the MNIST dataset\n",
    "(x_train, y_train), (x_test, y_test) = tf.keras.datasets.mnist.load_data()\n",
    "x_train, x_test = x_train / 255.0, x_test / 255.0  # Normalize to [0, 1]\n",
    "x_train = x_train.reshape(-1, 28 * 28)  # Flatten images\n",
    "x_test = x_test.reshape(-1, 28 * 28)\n",
    "\n",
    "# Convert labels to one-hot encoding\n",
    "y_train_onehot = tf.keras.utils.to_categorical(y_train, num_classes=10)\n",
    "y_test_onehot = tf.keras.utils.to_categorical(y_test, num_classes=10)\n"
   ]
  },
  {
   "cell_type": "code",
   "execution_count": 4,
   "metadata": {},
   "outputs": [],
   "source": [
    "class SimpleNN(tf.keras.Model):\n",
    "    def __init__(self):\n",
    "        super(SimpleNN, self).__init__()\n",
    "        self.dense1 = tf.keras.layers.Dense(128, activation='relu')\n",
    "        self.dense2 = tf.keras.layers.Dense(10, activation='softmax')\n",
    "\n",
    "    def call(self, inputs):\n",
    "        x = self.dense1(inputs)\n",
    "        return self.dense2(x)"
   ]
  },
  {
   "cell_type": "code",
   "execution_count": 5,
   "metadata": {},
   "outputs": [],
   "source": [
    "model = SimpleNN()\n",
    "optimizer = tf.keras.optimizers.Adam(learning_rate=0.001)\n",
    "loss_fn = tf.keras.losses.CategoricalCrossentropy()"
   ]
  },
  {
   "cell_type": "code",
   "execution_count": 8,
   "metadata": {},
   "outputs": [
    {
     "name": "stdout",
     "output_type": "stream",
     "text": [
      "num_batches :  1875\n"
     ]
    }
   ],
   "source": [
    "epochs = 3\n",
    "batch_size = 32\n",
    "num_batches = len(x_train) // batch_size\n",
    "\n",
    "print(\"num_batches : \",num_batches)"
   ]
  },
  {
   "cell_type": "code",
   "execution_count": 13,
   "metadata": {},
   "outputs": [
    {
     "data": {
      "text/plain": [
       "[<KerasVariable shape=(784, 128), dtype=float32, path=simple_nn/dense/kernel>,\n",
       " <KerasVariable shape=(128,), dtype=float32, path=simple_nn/dense/bias>,\n",
       " <KerasVariable shape=(128, 10), dtype=float32, path=simple_nn/dense_1/kernel>,\n",
       " <KerasVariable shape=(10,), dtype=float32, path=simple_nn/dense_1/bias>]"
      ]
     },
     "execution_count": 13,
     "metadata": {},
     "output_type": "execute_result"
    }
   ],
   "source": [
    "model.trainable_variables"
   ]
  },
  {
   "cell_type": "code",
   "execution_count": 16,
   "metadata": {},
   "outputs": [
    {
     "name": "stdout",
     "output_type": "stream",
     "text": [
      "Epoch 1/3\n",
      "Batch 0/1875, Loss: 0.0361\n",
      "Batch 200/1875, Loss: 0.0587\n",
      "Batch 400/1875, Loss: 0.1508\n",
      "Batch 600/1875, Loss: 0.0333\n",
      "Batch 800/1875, Loss: 0.0493\n",
      "Batch 1000/1875, Loss: 0.1366\n",
      "Batch 1200/1875, Loss: 0.0647\n",
      "Batch 1400/1875, Loss: 0.0726\n",
      "Batch 1600/1875, Loss: 0.1052\n",
      "Batch 1800/1875, Loss: 0.0560\n",
      "Epoch 2/3\n",
      "Batch 0/1875, Loss: 0.0219\n",
      "Batch 200/1875, Loss: 0.0579\n",
      "Batch 400/1875, Loss: 0.0844\n",
      "Batch 600/1875, Loss: 0.0272\n",
      "Batch 800/1875, Loss: 0.0294\n",
      "Batch 1000/1875, Loss: 0.1078\n",
      "Batch 1200/1875, Loss: 0.0472\n",
      "Batch 1400/1875, Loss: 0.0430\n",
      "Batch 1600/1875, Loss: 0.0954\n",
      "Batch 1800/1875, Loss: 0.0289\n",
      "Epoch 3/3\n",
      "Batch 0/1875, Loss: 0.0149\n",
      "Batch 200/1875, Loss: 0.0494\n",
      "Batch 400/1875, Loss: 0.0715\n",
      "Batch 600/1875, Loss: 0.0178\n",
      "Batch 800/1875, Loss: 0.0180\n",
      "Batch 1000/1875, Loss: 0.0821\n",
      "Batch 1200/1875, Loss: 0.0445\n",
      "Batch 1400/1875, Loss: 0.0342\n",
      "Batch 1600/1875, Loss: 0.0447\n",
      "Batch 1800/1875, Loss: 0.0160\n"
     ]
    }
   ],
   "source": [
    "\n",
    "for epoch in range(epochs):\n",
    "    print(f\"Epoch {epoch + 1}/{epochs}\")\n",
    "    for i in range(num_batches):\n",
    "        # Get a batch of data\n",
    "        start = i * batch_size\n",
    "        end = start + batch_size\n",
    "        x_batch = x_train[start:end]\n",
    "        y_batch = y_train_onehot[start:end]\n",
    "        \n",
    "        with tf.GradientTape() as tape:\n",
    "            predictions = model(x_batch, training=True)  # Forward pass\n",
    "            loss = loss_fn(y_batch, predictions)        # Compute loss\n",
    "        \n",
    "\n",
    "        gradients = tape.gradient(loss, model.trainable_variables) \n",
    "      \n",
    "        optimizer.apply_gradients(zip(gradients, model.trainable_variables))  # Update weights\n",
    "\n",
    "        if i % 200 == 0:  # Print progress every 200 batches\n",
    "            print(f\"Batch {i}/{num_batches}, Loss: {loss.numpy():.4f}\")\n",
    "\n",
    "        "
   ]
  },
  {
   "cell_type": "code",
   "execution_count": 17,
   "metadata": {},
   "outputs": [
    {
     "name": "stdout",
     "output_type": "stream",
     "text": [
      "Test Loss: 0.0916, Test Accuracy: 0.9731\n"
     ]
    }
   ],
   "source": [
    "# Evaluate the model\n",
    "test_loss = loss_fn(y_test_onehot, model(x_test))\n",
    "test_accuracy = tf.keras.metrics.categorical_accuracy(y_test_onehot, model(x_test))\n",
    "print(f\"Test Loss: {test_loss.numpy():.4f}, Test Accuracy: {tf.reduce_mean(test_accuracy).numpy():.4f}\")"
   ]
  },
  {
   "cell_type": "code",
   "execution_count": null,
   "metadata": {},
   "outputs": [],
   "source": []
  }
 ],
 "metadata": {
  "kernelspec": {
   "display_name": "dev_env",
   "language": "python",
   "name": "python3"
  },
  "language_info": {
   "codemirror_mode": {
    "name": "ipython",
    "version": 3
   },
   "file_extension": ".py",
   "mimetype": "text/x-python",
   "name": "python",
   "nbconvert_exporter": "python",
   "pygments_lexer": "ipython3",
   "version": "3.10.14"
  }
 },
 "nbformat": 4,
 "nbformat_minor": 2
}
